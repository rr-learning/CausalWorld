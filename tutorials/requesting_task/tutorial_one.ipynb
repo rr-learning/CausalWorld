{
 "cells": [
  {
   "cell_type": "code",
   "execution_count": 4,
   "metadata": {},
   "outputs": [],
   "source": [
    "from causal_rl_bench.envs.world import World\n",
    "from causal_rl_bench.task_generators.task import task_generator"
   ]
  },
  {
   "cell_type": "code",
   "execution_count": 5,
   "metadata": {},
   "outputs": [
    {
     "name": "stdout",
     "output_type": "stream",
     "text": [
      "Importing the robot description files from local copy of the robot_properties_fingers package.\n"
     ]
    }
   ],
   "source": [
    "task = task_generator(task_generator_id='reaching', enable_visualization=True)\n",
    "env = World(task=task)"
   ]
  },
  {
   "cell_type": "code",
   "execution_count": 6,
   "metadata": {},
   "outputs": [],
   "source": [
    "env.reset()\n",
    "for _ in range(2000):\n",
    "    obs, reward, done, info = env.step(env.action_space.sample())"
   ]
  },
  {
   "cell_type": "code",
   "execution_count": 7,
   "metadata": {},
   "outputs": [
    {
     "data": {
      "text/plain": [
       "{'joint_positions': array([[-1.22173048, -1.22173048, -2.7925268 , -1.22173048, -1.22173048,\n",
       "         -2.7925268 , -1.22173048, -1.22173048, -2.7925268 ],\n",
       "        [ 0.6981317 , -0.34906585, -0.52359878,  0.6981317 , -0.34906585,\n",
       "         -0.52359878,  0.6981317 , -0.34906585, -0.52359878]]),\n",
       " 'goal_60': {'position': array([[-0.15 ,  0.   ,  0.01 ],\n",
       "         [ 0.   ,  0.075,  0.155]]),\n",
       "  'size': array([[0.035, 0.035, 0.035],\n",
       "         [0.065, 0.065, 0.065]]),\n",
       "  'color': array([[0.5, 0.5, 0.5],\n",
       "         [1. , 1. , 1. ]])},\n",
       " 'goal_120': {'position': array([[-0.15 , -0.15 ,  0.01 ],\n",
       "         [-0.075,  0.   ,  0.155]]),\n",
       "  'size': array([[0.035, 0.035, 0.035],\n",
       "         [0.065, 0.065, 0.065]]),\n",
       "  'color': array([[0.5, 0.5, 0.5],\n",
       "         [1. , 1. , 1. ]])},\n",
       " 'goal_300': {'position': array([[-0.15 , -0.15 ,  0.01 ],\n",
       "         [ 0.   , -0.075,  0.155]]),\n",
       "  'size': array([[0.035, 0.035, 0.035],\n",
       "         [0.065, 0.065, 0.065]]),\n",
       "  'color': array([[0.5, 0.5, 0.5],\n",
       "         [1. , 1. , 1. ]])},\n",
       " 'floor_color': array([[0.5, 0.5, 0.5],\n",
       "        [1. , 1. , 1. ]]),\n",
       " 'stage_color': array([[0. , 0. , 0. ],\n",
       "        [0.5, 0.5, 0.5]]),\n",
       " 'floor_friction': array([0.3, 0.8]),\n",
       " 'robot_finger_60_link_0': {'color': array([[0. , 0. , 0. ],\n",
       "         [0.5, 0.5, 0.5]]),\n",
       "  'mass': array([0.2, 0.6])},\n",
       " 'robot_finger_60_link_1': {'color': array([[0. , 0. , 0. ],\n",
       "         [0.5, 0.5, 0.5]]),\n",
       "  'mass': array([0.2, 0.6])},\n",
       " 'robot_finger_60_link_2': {'color': array([[0. , 0. , 0. ],\n",
       "         [0.5, 0.5, 0.5]]),\n",
       "  'mass': array([0.2, 0.6])},\n",
       " 'robot_finger_60_link_3': {'color': array([[0. , 0. , 0. ],\n",
       "         [0.5, 0.5, 0.5]]),\n",
       "  'mass': array([0.2, 0.6])},\n",
       " 'robot_finger_120_link_0': {'color': array([[0. , 0. , 0. ],\n",
       "         [0.5, 0.5, 0.5]]),\n",
       "  'mass': array([0.2, 0.6])},\n",
       " 'robot_finger_120_link_1': {'color': array([[0. , 0. , 0. ],\n",
       "         [0.5, 0.5, 0.5]]),\n",
       "  'mass': array([0.2, 0.6])},\n",
       " 'robot_finger_120_link_2': {'color': array([[0. , 0. , 0. ],\n",
       "         [0.5, 0.5, 0.5]]),\n",
       "  'mass': array([0.2, 0.6])},\n",
       " 'robot_finger_120_link_3': {'color': array([[0. , 0. , 0. ],\n",
       "         [0.5, 0.5, 0.5]]),\n",
       "  'mass': array([0.2, 0.6])},\n",
       " 'robot_finger_300_link_0': {'color': array([[0. , 0. , 0. ],\n",
       "         [0.5, 0.5, 0.5]]),\n",
       "  'mass': array([0.2, 0.6])},\n",
       " 'robot_finger_300_link_1': {'color': array([[0. , 0. , 0. ],\n",
       "         [0.5, 0.5, 0.5]]),\n",
       "  'mass': array([0.2, 0.6])},\n",
       " 'robot_finger_300_link_2': {'color': array([[0. , 0. , 0. ],\n",
       "         [0.5, 0.5, 0.5]]),\n",
       "  'mass': array([0.2, 0.6])},\n",
       " 'robot_finger_300_link_3': {'color': array([[0. , 0. , 0. ],\n",
       "         [0.5, 0.5, 0.5]]),\n",
       "  'mass': array([0.2, 0.6])},\n",
       " 'number_of_obstacles': array([1, 5])}"
      ]
     },
     "execution_count": 7,
     "metadata": {},
     "output_type": "execute_result"
    }
   ],
   "source": [
    "env.task.get_training_intervention_spaces()"
   ]
  },
  {
   "cell_type": "code",
   "execution_count": 10,
   "metadata": {},
   "outputs": [
    {
     "data": {
      "text/plain": [
       "{'joint_positions': array([-0.12109097, -0.44276149, -1.06157164, -0.13282087, -0.23219747,\n",
       "        -2.11366131, -0.12575439, -0.41670483, -0.97809209]),\n",
       " 'joint_velocities': array([-3.47385997,  0.95576926, -5.57469766,  2.13154661,  2.26647668,\n",
       "        -7.80214076, -3.03188617, -1.91079451,  0.08458953]),\n",
       " 'robot_finger_60_link_0': {'color': (0.6000000238418579, 0.0, 0.0),\n",
       "  'mass': 1.0},\n",
       " 'robot_finger_60_link_1': {'color': (0.6000000238418579, 0.0, 0.0),\n",
       "  'mass': 0.2},\n",
       " 'robot_finger_60_link_2': {'color': (0.6000000238418579, 0.0, 0.0),\n",
       "  'mass': 0.2},\n",
       " 'robot_finger_60_link_3': {'color': (0.6000000238418579, 0.0, 0.0),\n",
       "  'mass': 0.01},\n",
       " 'robot_finger_120_link_0': {'color': (0.0, 0.6000000238418579, 0.0),\n",
       "  'mass': 1.0},\n",
       " 'robot_finger_120_link_1': {'color': (0.0, 0.6000000238418579, 0.0),\n",
       "  'mass': 0.2},\n",
       " 'robot_finger_120_link_2': {'color': (0.0, 0.6000000238418579, 0.0),\n",
       "  'mass': 0.2},\n",
       " 'robot_finger_120_link_3': {'color': (0.0, 0.6000000238418579, 0.0),\n",
       "  'mass': 0.01},\n",
       " 'robot_finger_300_link_0': {'color': (0.0, 0.0, 0.6000000238418579),\n",
       "  'mass': 1.0},\n",
       " 'robot_finger_300_link_1': {'color': (0.0, 0.0, 0.6000000238418579),\n",
       "  'mass': 0.2},\n",
       " 'robot_finger_300_link_2': {'color': (0.0, 0.0, 0.6000000238418579),\n",
       "  'mass': 0.2},\n",
       " 'robot_finger_300_link_3': {'color': (0.0, 0.0, 0.6000000238418579),\n",
       "  'mass': 0.01},\n",
       " 'floor_color': (0.31, 0.27, 0.25),\n",
       " 'stage_color': (0.95, 0.95, 0.95),\n",
       " 'stage_friction': 0.5,\n",
       " 'floor_friction': 0.5,\n",
       " 'goal_60': {'type': 21,\n",
       "  'position': array([0.  , 0.  , 0.15]),\n",
       "  'radius': array([0.015]),\n",
       "  'color': array([1, 0, 0])},\n",
       " 'goal_120': {'type': 21,\n",
       "  'position': array([0. , 0. , 0.2]),\n",
       "  'radius': array([0.015]),\n",
       "  'color': array([0, 1, 0])},\n",
       " 'goal_300': {'type': 21,\n",
       "  'position': array([0.  , 0.  , 0.25]),\n",
       "  'radius': array([0.015]),\n",
       "  'color': array([0, 0, 1])},\n",
       " 'number_of_obstacles': 0}"
      ]
     },
     "execution_count": 10,
     "metadata": {},
     "output_type": "execute_result"
    }
   ],
   "source": [
    "env.get_current_task_parameters()"
   ]
  },
  {
   "cell_type": "code",
   "execution_count": null,
   "metadata": {},
   "outputs": [],
   "source": []
  }
 ],
 "metadata": {
  "kernelspec": {
   "display_name": "Python 3",
   "language": "python",
   "name": "python3"
  },
  "language_info": {
   "codemirror_mode": {
    "name": "ipython",
    "version": 3
   },
   "file_extension": ".py",
   "mimetype": "text/x-python",
   "name": "python",
   "nbconvert_exporter": "python",
   "pygments_lexer": "ipython3",
   "version": "3.7.4"
  }
 },
 "nbformat": 4,
 "nbformat_minor": 2
}
